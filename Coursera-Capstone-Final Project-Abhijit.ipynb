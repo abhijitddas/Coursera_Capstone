{
    "cells": [
        {
            "cell_type": "markdown",
            "metadata": {
                "collapsed": true
            },
            "source": "# **IBM Data Science** | Coursera Capstone Project - Course 9 - Week 4 and 5\n\n### Business Problem\n\nA pizza chain wants to open outlets in the Toronto neighborhoods, and they are looking for guidance on which neighborhoods might be suitable locations for their restaurants. They have a fixed budget that will allow them to open 5 to 8 outlets in the first year, and their management must be able to show traction in the first year as to be able to expand the business in the subsequent years. The management after initial reviews decided on the following high level criteria\n\n- The neighborhoods must have existing pizza outlets\n- Pizza outlets must be within the top 5 most common venues\n- The neighborhoods satisfying the above conditions to be ranked venues per 10k population (lowest to highest). The management would select the 5-8 neighborhoods with the lowest venues per 10k population"
        },
        {
            "cell_type": "markdown",
            "metadata": {},
            "source": "### Data to be used for this analysis\n\nThe following datasets to be utilized for this analysis. The Toronto neighborhood information from Wikipedia will be the source for basic neighborhood information, latitudes, longitudes. The location and venue data from Foursquare will be utilized to get information related to venues in the neighborhoods, the popular venues in the neighborhoods. Finally, I will be uploading a file containing population data for the neighborhoods, these would be approximate figures, however would be sufficient to demonstrate the concept behind this exercise. \n\n- The Toronto neighborhood data available publicly on Wikipedia\n- Location data for Toronto from Foursquare (www.foursquare.com)\n- "
        },
        {
            "cell_type": "code",
            "execution_count": null,
            "metadata": {},
            "outputs": [],
            "source": ""
        }
    ],
    "metadata": {
        "kernelspec": {
            "display_name": "Python 3.6",
            "language": "python",
            "name": "python3"
        },
        "language_info": {
            "codemirror_mode": {
                "name": "ipython",
                "version": 3
            },
            "file_extension": ".py",
            "mimetype": "text/x-python",
            "name": "python",
            "nbconvert_exporter": "python",
            "pygments_lexer": "ipython3",
            "version": "3.6.9"
        }
    },
    "nbformat": 4,
    "nbformat_minor": 1
}